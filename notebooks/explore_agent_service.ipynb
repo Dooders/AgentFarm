{
 "cells": [
  {
   "cell_type": "code",
   "execution_count": 12,
   "metadata": {},
   "outputs": [],
   "source": [
    "from farm.database.session_manager import SessionManager\n",
    "from farm.database.repositories.agent_repository import AgentRepository\n",
    "from farm.database.analyzers.agent_analyzer import AgentAnalysis\n",
    "\n",
    "# Initialize session manager and repositories\n",
    "session_manager = SessionManager('sqlite:///simulations/simulation_results.db')\n",
    "agent_repository = AgentRepository(session_manager)\n",
    "agent_analysis = AgentAnalysis(agent_repository)\n",
    "\n",
    "agent_id = agent_repository.get_random_agent_id()"
   ]
  },
  {
   "cell_type": "code",
   "execution_count": 13,
   "metadata": {},
   "outputs": [
    {
     "data": {
      "text/plain": [
       "BasicAgentInfo(agent_id='PJaKLhmXsvbWfqUtxicDfA', agent_type='SystemAgent', birth_time=668, death_time=741, lifespan=73, initial_resources=5.0, starting_health=100.0, starvation_threshold=0, genome_id='SystemAgent:1:none:668', generation=1)"
      ]
     },
     "execution_count": 13,
     "metadata": {},
     "output_type": "execute_result"
    }
   ],
   "source": [
    "agent_analysis.analyze(agent_id)\n"
   ]
  },
  {
   "cell_type": "markdown",
   "metadata": {},
   "source": []
  },
  {
   "cell_type": "code",
   "execution_count": 14,
   "metadata": {},
   "outputs": [
    {
     "data": {
      "text/plain": [
       "ExplorationExploitation(exploration_rate=0.034722222222222224, exploitation_rate=0.9652777777777778, reward_comparison={'new_actions_avg': 0.1, 'known_actions_avg': 0.01043165467625897})"
      ]
     },
     "execution_count": 14,
     "metadata": {},
     "output_type": "execute_result"
    }
   ],
   "source": [
    "agent_analysis.analyze_exploration_exploitation(agent_id)\n"
   ]
  },
  {
   "cell_type": "code",
   "execution_count": 15,
   "metadata": {},
   "outputs": [
    {
     "data": {
      "text/plain": [
       "AdversarialInteractionAnalysis(win_rate=0.0, damage_efficiency=0, counter_strategies={})"
      ]
     },
     "execution_count": 15,
     "metadata": {},
     "output_type": "execute_result"
    }
   ],
   "source": [
    "agent_analysis.analyze_adversarial_interactions(agent_id)\n",
    "\n"
   ]
  },
  {
   "cell_type": "code",
   "execution_count": 16,
   "metadata": {},
   "outputs": [
    {
     "data": {
      "text/plain": [
       "CollaborativeInteractionAnalysis(collaboration_rate=0.13194444444444445, group_reward_impact=-0.06315789473684211, synergy_metrics=-0.07259845417740152)"
      ]
     },
     "execution_count": 16,
     "metadata": {},
     "output_type": "execute_result"
    }
   ],
   "source": [
    "agent_analysis.analyze_collaboration(agent_id)\n",
    "\n"
   ]
  },
  {
   "cell_type": "code",
   "execution_count": 17,
   "metadata": {},
   "outputs": [
    {
     "data": {
      "text/plain": [
       "LearningCurveAnalysis(action_success_over_time=[0.08064516129032258, 0.04878048780487805], reward_progression=[0.022177419354838673, 0.00701219512195119], mistake_reduction=0)"
      ]
     },
     "execution_count": 17,
     "metadata": {},
     "output_type": "execute_result"
    }
   ],
   "source": [
    "agent_analysis.analyze_learning_curve(agent_id)\n",
    "\n"
   ]
  },
  {
   "cell_type": "code",
   "execution_count": 18,
   "metadata": {},
   "outputs": [
    {
     "data": {
      "text/plain": [
       "ConflictAnalysis(conflict_trigger_actions={'move': 0.75, 'gather': 0.25}, conflict_resolution_actions={'move': 0.5, 'gather': 0.5}, conflict_outcome_metrics={'move': -0.1, 'gather': 0.0})"
      ]
     },
     "execution_count": 18,
     "metadata": {},
     "output_type": "execute_result"
    }
   ],
   "source": [
    "agent_analysis.analyze_conflicts(agent_id)\n",
    "\n"
   ]
  },
  {
   "cell_type": "code",
   "execution_count": 19,
   "metadata": {},
   "outputs": [
    {
     "data": {
      "text/plain": [
       "RiskRewardAnalysis(high_risk_actions={'gather': 0.18240740740740743, 'move': -0.09999999999999988, 'share': -0.06315789473684211}, low_risk_actions={'attack': 0.0, 'defend': 0.0}, risk_appetite=0.9722222222222222)"
      ]
     },
     "execution_count": 19,
     "metadata": {},
     "output_type": "execute_result"
    }
   ],
   "source": [
    "agent_analysis.analyze_risk_reward(agent_id)"
   ]
  },
  {
   "cell_type": "code",
   "execution_count": 20,
   "metadata": {},
   "outputs": [
    {
     "data": {
      "text/plain": [
       "CounterfactualAnalysis(counterfactual_rewards={'move': -0.09999999999999988, 'gather': 0.18240740740740743, 'share': -0.06315789473684211, 'attack': 0.0, 'defend': 0.0}, missed_opportunities={'attack': 0.0, 'defend': 0.0}, strategy_comparison={'move': -0.10384990253411297, 'gather': 0.17855750487329436, 'share': -0.0670077972709552, 'attack': -0.0038499025341130894, 'defend': -0.0038499025341130894})"
      ]
     },
     "execution_count": 20,
     "metadata": {},
     "output_type": "execute_result"
    }
   ],
   "source": [
    "agent_analysis.analyze_counterfactuals(agent_id)\n",
    "\n"
   ]
  },
  {
   "cell_type": "code",
   "execution_count": 21,
   "metadata": {},
   "outputs": [
    {
     "data": {
      "text/plain": [
       "ResilienceAnalysis(recovery_rate=9.75, adaptation_rate=0.43140597147950094, failure_impact=0.304375)"
      ]
     },
     "execution_count": 21,
     "metadata": {},
     "output_type": "execute_result"
    }
   ],
   "source": [
    "agent_analysis.analyze_resilience(agent_id)\n"
   ]
  },
  {
   "cell_type": "code",
   "execution_count": 22,
   "metadata": {},
   "outputs": [
    {
     "data": {
      "text/plain": [
       "EnvironmentalImpactAnalysis(environmental_state_impact={}, adaptive_behavior={'adaptation_rate': 0.0, 'success_rate': 0.0, 'stability': 0.0}, spatial_analysis={'position_effects': {}, 'clustering': {'average_density': 0.0, 'location_frequencies': {}, 'density_map': {}, 'hotspots': []}, 'movement_patterns': {'common_paths': [], 'average_distance': 0.0, 'total_distance': 0, 'path_lengths': {}, 'movement_directions': {'north': 0.0, 'northeast': 0.0, 'east': 0.0, 'southeast': 0.0, 'south': 0.0, 'southwest': 0.0, 'west': 0.0, 'northwest': 0.0}, 'stationary_periods': []}})"
      ]
     },
     "execution_count": 22,
     "metadata": {},
     "output_type": "execute_result"
    }
   ],
   "source": [
    "agent_analysis.analyze_environmental_impact(agent_id)\n",
    "\n"
   ]
  },
  {
   "cell_type": "code",
   "execution_count": null,
   "metadata": {},
   "outputs": [],
   "source": []
  }
 ],
 "metadata": {
  "kernelspec": {
   "display_name": "base",
   "language": "python",
   "name": "python3"
  },
  "language_info": {
   "codemirror_mode": {
    "name": "ipython",
    "version": 3
   },
   "file_extension": ".py",
   "mimetype": "text/x-python",
   "name": "python",
   "nbconvert_exporter": "python",
   "pygments_lexer": "ipython3",
   "version": "3.11.7"
  }
 },
 "nbformat": 4,
 "nbformat_minor": 2
}
